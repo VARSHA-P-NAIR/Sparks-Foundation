{
 "cells": [
  {
   "cell_type": "markdown",
   "id": "ff9174d7",
   "metadata": {},
   "source": [
    "# Graduate Rotational Internship Program@Sparks Foundation\n",
    "\n",
    "**AUTHOR:VARSHA PREMANAND**\n",
    "\n",
    "**Task-1:Prediction using the supervised Machine Learning**\n",
    "\n",
    "**Predict the percentage of a student based on the no. of study hours**"
   ]
  },
  {
   "cell_type": "markdown",
   "id": "80046de1",
   "metadata": {},
   "source": [
    "**IMPORTING ALL THE LIBRARIES**"
   ]
  },
  {
   "cell_type": "code",
   "execution_count": 2,
   "id": "27e95683",
   "metadata": {},
   "outputs": [],
   "source": [
    "import pandas as pd\n",
    "import numpy as np  \n",
    "import matplotlib.pyplot as plt  \n",
    "%matplotlib inline"
   ]
  },
  {
   "cell_type": "markdown",
   "id": "e2672733",
   "metadata": {},
   "source": [
    "**IMPORTING THE DATA**"
   ]
  },
  {
   "cell_type": "code",
   "execution_count": 3,
   "id": "ad1e7ce9",
   "metadata": {},
   "outputs": [
    {
     "name": "stdout",
     "output_type": "stream",
     "text": [
      "Data imported successfully \n"
     ]
    },
    {
     "data": {
      "text/html": [
       "<div>\n",
       "<style scoped>\n",
       "    .dataframe tbody tr th:only-of-type {\n",
       "        vertical-align: middle;\n",
       "    }\n",
       "\n",
       "    .dataframe tbody tr th {\n",
       "        vertical-align: top;\n",
       "    }\n",
       "\n",
       "    .dataframe thead th {\n",
       "        text-align: right;\n",
       "    }\n",
       "</style>\n",
       "<table border=\"1\" class=\"dataframe\">\n",
       "  <thead>\n",
       "    <tr style=\"text-align: right;\">\n",
       "      <th></th>\n",
       "      <th>Hours</th>\n",
       "      <th>Scores</th>\n",
       "    </tr>\n",
       "  </thead>\n",
       "  <tbody>\n",
       "    <tr>\n",
       "      <th>0</th>\n",
       "      <td>2.5</td>\n",
       "      <td>21</td>\n",
       "    </tr>\n",
       "    <tr>\n",
       "      <th>1</th>\n",
       "      <td>5.1</td>\n",
       "      <td>47</td>\n",
       "    </tr>\n",
       "    <tr>\n",
       "      <th>2</th>\n",
       "      <td>3.2</td>\n",
       "      <td>27</td>\n",
       "    </tr>\n",
       "    <tr>\n",
       "      <th>3</th>\n",
       "      <td>8.5</td>\n",
       "      <td>75</td>\n",
       "    </tr>\n",
       "    <tr>\n",
       "      <th>4</th>\n",
       "      <td>3.5</td>\n",
       "      <td>30</td>\n",
       "    </tr>\n",
       "    <tr>\n",
       "      <th>5</th>\n",
       "      <td>1.5</td>\n",
       "      <td>20</td>\n",
       "    </tr>\n",
       "    <tr>\n",
       "      <th>6</th>\n",
       "      <td>9.2</td>\n",
       "      <td>88</td>\n",
       "    </tr>\n",
       "    <tr>\n",
       "      <th>7</th>\n",
       "      <td>5.5</td>\n",
       "      <td>60</td>\n",
       "    </tr>\n",
       "    <tr>\n",
       "      <th>8</th>\n",
       "      <td>8.3</td>\n",
       "      <td>81</td>\n",
       "    </tr>\n",
       "    <tr>\n",
       "      <th>9</th>\n",
       "      <td>2.7</td>\n",
       "      <td>25</td>\n",
       "    </tr>\n",
       "  </tbody>\n",
       "</table>\n",
       "</div>"
      ],
      "text/plain": [
       "   Hours  Scores\n",
       "0    2.5      21\n",
       "1    5.1      47\n",
       "2    3.2      27\n",
       "3    8.5      75\n",
       "4    3.5      30\n",
       "5    1.5      20\n",
       "6    9.2      88\n",
       "7    5.5      60\n",
       "8    8.3      81\n",
       "9    2.7      25"
      ]
     },
     "execution_count": 3,
     "metadata": {},
     "output_type": "execute_result"
    }
   ],
   "source": [
    "df=pd.read_csv(\"http://bit.ly/w-data\")\n",
    "print(\"Data imported successfully \")\n",
    "df.head(10)"
   ]
  },
  {
   "cell_type": "markdown",
   "id": "b7b2f27a",
   "metadata": {},
   "source": [
    "**GETTING THE SHAPE OF THE DATA**\n",
    " "
   ]
  },
  {
   "cell_type": "code",
   "execution_count": 4,
   "id": "f33c1dcf",
   "metadata": {},
   "outputs": [
    {
     "name": "stdout",
     "output_type": "stream",
     "text": [
      "(25, 2)\n"
     ]
    }
   ],
   "source": [
    "print(df.shape)"
   ]
  },
  {
   "cell_type": "markdown",
   "id": "07b6d3b6",
   "metadata": {},
   "source": [
    "25 rows and 2 coloumns."
   ]
  },
  {
   "cell_type": "markdown",
   "id": "be3690bb",
   "metadata": {},
   "source": [
    "**PLOTTING THE DATA**"
   ]
  },
  {
   "cell_type": "code",
   "execution_count": 5,
   "id": "1571c1fb",
   "metadata": {},
   "outputs": [
    {
     "data": {
      "image/png": "[encoded data removed]",
      "text/plain": [
       "<Figure size 432x288 with 1 Axes>"
      ]
     },
     "metadata": {
      "needs_background": "light"
     },
     "output_type": "display_data"
    }
   ],
   "source": [
    "df.plot(x='Hours' , y='Scores',style='<',color='green')\n",
    "plt.title(\"Hours Vs Percentage\")\n",
    "plt.xlabel(\"Hours studied\")\n",
    "plt.ylabel(\"Percentage Score\")\n",
    "plt.show()"
   ]
  },
  {
   "cell_type": "markdown",
   "id": "014dbffe",
   "metadata": {},
   "source": [
    "**PREPARING THE DATA**"
   ]
  },
  {
   "cell_type": "code",
   "execution_count": 6,
   "id": "ec0b764c",
   "metadata": {},
   "outputs": [
    {
     "name": "stdout",
     "output_type": "stream",
     "text": [
      "X: [[2.5]\n",
      " [5.1]\n",
      " [3.2]\n",
      " [8.5]\n",
      " [3.5]\n",
      " [1.5]\n",
      " [9.2]\n",
      " [5.5]\n",
      " [8.3]\n",
      " [2.7]\n",
      " [7.7]\n",
      " [5.9]\n",
      " [4.5]\n",
      " [3.3]\n",
      " [1.1]\n",
      " [8.9]\n",
      " [2.5]\n",
      " [1.9]\n",
      " [6.1]\n",
      " [7.4]\n",
      " [2.7]\n",
      " [4.8]\n",
      " [3.8]\n",
      " [6.9]\n",
      " [7.8]]\n",
      "y: [21 47 27 75 30 20 88 60 81 25 85 62 41 42 17 95 30 24 67 69 30 54 35 76\n",
      " 86]\n"
     ]
    }
   ],
   "source": [
    "X = df.iloc[:, :-1].values  \n",
    "y = df.iloc[:, 1].values\n",
    "print(\"X:\",X)\n",
    "print(\"y:\",y)"
   ]
  },
  {
   "cell_type": "markdown",
   "id": "7ff589fb",
   "metadata": {},
   "source": [
    "**SPLITTING X AND Y IN TO TRAIN AND TEST DATA**"
   ]
  },
  {
   "cell_type": "code",
   "execution_count": 7,
   "id": "13fd1324",
   "metadata": {},
   "outputs": [],
   "source": [
    "from sklearn.model_selection import train_test_split\n",
    "X_train, X_test, y_train, y_test = train_test_split(X, y, test_size=0.2, random_state=0)"
   ]
  },
  {
   "cell_type": "markdown",
   "id": "ce3b88f9",
   "metadata": {},
   "source": [
    "**TRAINING THE ALGORITHM**"
   ]
  },
  {
   "cell_type": "code",
   "execution_count": 8,
   "id": "79d19c34",
   "metadata": {},
   "outputs": [
    {
     "data": {
      "text/plain": [
       "LinearRegression()"
      ]
     },
     "execution_count": 8,
     "metadata": {},
     "output_type": "execute_result"
    }
   ],
   "source": [
    "from sklearn.linear_model import LinearRegression\n",
    "regressor = LinearRegression()\n",
    "regressor.fit(X_train, y_train)"
   ]
  },
  {
   "cell_type": "markdown",
   "id": "3a7aaf6d",
   "metadata": {},
   "source": [
    "**VISUALIZATION OF THE MODEL**"
   ]
  },
  {
   "cell_type": "code",
   "execution_count": 9,
   "id": "79554b39",
   "metadata": {},
   "outputs": [
    {
     "data": {
      "image/png": "[encoded data removed]",
      "text/plain": [
       "<Figure size 432x288 with 1 Axes>"
      ]
     },
     "metadata": {
      "needs_background": "light"
     },
     "output_type": "display_data"
    }
   ],
   "source": [
    "#VISUALIZATION OF TRAIN SET OF  DATA\n",
    "\n",
    "line = regressor.coef_*X+regressor.intercept_\n",
    "plt.scatter(X_train, y_train, color='red')\n",
    "plt.plot(X, line,color='black')\n",
    "plt.xlabel('Hours studied')\n",
    "plt.ylabel('Percentage Score')\n",
    "plt.show()"
   ]
  },
  {
   "cell_type": "markdown",
   "id": "85659496",
   "metadata": {},
   "source": [
    "**PREDICTING USING THE MODEL**"
   ]
  },
  {
   "cell_type": "code",
   "execution_count": 10,
   "id": "b9251877",
   "metadata": {},
   "outputs": [
    {
     "name": "stdout",
     "output_type": "stream",
     "text": [
      "            Real values                                   Predicted values\n",
      "0  [20, 27, 69, 30, 62]  [16.884144762398037, 33.73226077948984, 75.357...\n"
     ]
    }
   ],
   "source": [
    "y_pred = regressor.predict(X_test)\n",
    "df = pd.DataFrame({'Real values':[y_test], 'Predicted values':[y_pred]})\n",
    "print(df)"
   ]
  },
  {
   "cell_type": "code",
   "execution_count": 11,
   "id": "6b8ae703",
   "metadata": {},
   "outputs": [
    {
     "name": "stdout",
     "output_type": "stream",
     "text": [
      "The predicted score for a student studying for 9.25 hours is 93.69173248737538\n"
     ]
    }
   ],
   "source": [
    "#TESTING WITH OWN DATA\n",
    "\n",
    "hours = 9.25\n",
    "own_pred = regressor.predict([[hours]])\n",
    "print(\"The predicted score for a student studying for 9.25 hours is\",own_pred[0])\n"
   ]
  },
  {
   "cell_type": "markdown",
   "id": "2bc091eb",
   "metadata": {},
   "source": [
    "**VISUALIZATION OF THE MODEL**"
   ]
  },
  {
   "cell_type": "code",
   "execution_count": 12,
   "id": "5d75fc0e",
   "metadata": {},
   "outputs": [
    {
     "data": {
      "image/png": "[encoded data removed]",
      "text/plain": [
       "<Figure size 432x288 with 1 Axes>"
      ]
     },
     "metadata": {
      "needs_background": "light"
     },
     "output_type": "display_data"
    }
   ],
   "source": [
    "#VISUALIZING TEST DATA AND PREDICTED DATA\n",
    "\n",
    "plt.scatter(X_test, y_test, color='red')\n",
    "plt.scatter(X_test, y_pred, color='green')\n",
    "plt.plot(X_train, regressor.predict(X_train), color='black')\n",
    "plt.title('Hours Vs Percentage')\n",
    "plt.xlabel('Hours studied')\n",
    "plt.ylabel('Percentage Score')\n",
    "plt.show()\n"
   ]
  },
  {
   "cell_type": "markdown",
   "id": "ceeb0ff8",
   "metadata": {},
   "source": [
    "**EVALUATING THE MODEL USING R2 SCORE**"
   ]
  },
  {
   "cell_type": "code",
   "execution_count": 13,
   "id": "e7f44927",
   "metadata": {},
   "outputs": [
    {
     "name": "stdout",
     "output_type": "stream",
     "text": [
      "R2 score: 0.9454906892105356\n"
     ]
    }
   ],
   "source": [
    "from sklearn.metrics import r2_score\n",
    "print('R2 score:', r2_score(y_test, y_pred))"
   ]
  },
  {
   "cell_type": "markdown",
   "id": "58919b0e",
   "metadata": {},
   "source": [
    "The model is 94.54% confident.\n",
    "\n",
    "   **THANK YOU**"
   ]
  }
 ],
 "metadata": {
  "kernelspec": {
   "display_name": "Python 3",
   "language": "python",
   "name": "python3"
  },
  "language_info": {
   "codemirror_mode": {
    "name": "ipython",
    "version": 3
   },
   "file_extension": ".py",
   "mimetype": "text/x-python",
   "name": "python",
   "nbconvert_exporter": "python",
   "pygments_lexer": "ipython3",
   "version": "3.8.8"
  }
 },
 "nbformat": 4,
 "nbformat_minor": 5
}
